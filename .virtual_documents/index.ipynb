











import pandas as pd
ames = pd.read_csv("ames.csv", index_col=0)
ames


ames.describe()





ames_subset = ames[['LotArea', '1stFlrSF', 'GrLivArea', 'SalePrice']].copy()
ames_subset





# Your code here - import relevant library, create scatter plots

import matplotlib.pyplot as plt
import seaborn as sns

# Setting plot style
sns.set(style="whitegrid", context="notebook")

# Creating subplots
fig, axes = plt.subplots(1, 3, figsize=(18, 5))

# Plot 1: LotArea vs SalePrice
sns.scatterplot(ax=axes[0], data=ames_subset, x='LotArea', y='SalePrice', alpha=0.6)
axes[0].set_title('LotArea vs SalePrice')

# Plot 2: 1stFlrSF vs SalePrice
sns.scatterplot(ax=axes[1], data=ames_subset, x='1stFlrSF', y='SalePrice', alpha=0.6)
axes[1].set_title('1stFlrSF vs SalePrice')

# Plot 3: GrLivArea vs SalePrice
sns.scatterplot(ax=axes[2], data=ames_subset, x='GrLivArea', y='SalePrice', alpha=0.6)
axes[2].set_title('GrLivArea vs SalePrice')

plt.tight_layout()
plt.show()








# Your code here - define y and baseline X

y = ames_subset['SalePrice']
X = ames_subset['GrLivArea']


# Your code here - import StatsModels, fit baseline model, display results

import statsmodels.api as sm

# Adding a constant to X for intercept term
X = sm.add_constant(X)

# Fitting the linear regression model
model = sm.OLS(y, X).fit()

# Results
print(model.summary())








# Your code here - define X

y = ames_subset['SalePrice']
X = ames_subset[['LotArea', '1stFlrSF', 'GrLivArea']]


# Your code here - fit model and display results

# Adding a constant for the intercept
X = sm.add_constant(X)

# Fitting the multiple regression model
model = sm.OLS(y, X).fit()

# Results
print(model.summary())








# Your code here - create partial regression plots for each predictor

from statsmodels.graphics.regressionplots import plot_partregress_grid

# Plotting partial regression plots
fig = plt.figure(figsize=(12, 8))
plot_partregress_grid(model, fig=fig)
plt.tight_layout()
plt.show()








# Your code here - import linear regression from scikit-learn and create and fit model

from sklearn.linear_model import LinearRegression
from sklearn.metrics import r2_score

# Defining X and y
X = ames_subset.drop(columns='SalePrice')
y = ames_subset['SalePrice']

# Creating and fitting the model
linreg = LinearRegression()
linreg.fit(X, y)

# Results
print(model.summary())


# Your code here - compare R-Squared

# Predicting and calculating R-squared
y_pred = linreg.predict(X)
r2 = r2_score(y, y_pred)

# Results
print("Scikit-learn R-squared:", r2)
print("Intercept:", linreg.intercept_)
print("Coefficients:", linreg.coef_)


# Your code here - compare intercept and coefficients

coefficients_df = pd.DataFrame({
    'Feature': X.columns,
    'Coefficient': linreg.coef_
})
print(coefficients_df)



